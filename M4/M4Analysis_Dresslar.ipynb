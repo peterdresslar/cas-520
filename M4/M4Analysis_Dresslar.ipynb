{
 "cells": [
  {
   "cell_type": "markdown",
   "metadata": {},
   "source": [
    "Procedure\n",
    "Step 1: Intra-model Stochasticity\n",
    "Examining the model code, identify and describe the stochastic elements in the model.\n",
    "\n",
    "Step 2: Sensitivity Analysis\n",
    "Perform a sensitivity analysis of the Altruism model with the Cost, Benefit, Harshness and Disease parameters, and Altruistic and Selfish population numbers as the currencies.  First, identify the number of runs you will use for the analysis. Then, start by exploring Cost and Benefit parameters with Disease and Cost set to 0, then add positive values of Disease and Cost.\n",
    "\n",
    "Evaluation Method\n",
    "This total assignment is worth 50 pts: 10 pts for Step 1 and 40 pts for Step 2.\n",
    "\n",
    "Submission Expectations\n",
    "Step 1 should be submitted as a PDF file with the title M4Step1_[last name].pdf, and could even be a highlighted and notated rendition of the model code. A text analysis is also fine.\n",
    "\n",
    "For Step 2, if you use a notebook post an HTML version of the notebook with the title M4Analysis_[last name].html, and if you use another analysis tool please submit a analysis report with graphs as a PDF file with the title M2Analysis_[last name].pdf, Be sure your notebook and report is contains detailed commentary about your analysis steps, decisions and observations."
   ]
  }
 ],
 "metadata": {
  "language_info": {
   "name": "python"
  }
 },
 "nbformat": 4,
 "nbformat_minor": 2
}
