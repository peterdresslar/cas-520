{
 "cells": [
  {
   "cell_type": "markdown",
   "metadata": {},
   "source": [
    "Procedure\n",
    "Step 1: Intra-model Stochasticity\n",
    "Examining the model code, identify and describe the stochastic elements in the model.\n",
    "\n",
    "Step 2: Sensitivity Analysis\n",
    "Perform a sensitivity analysis of the Altruism model with the Cost, Benefit, Harshness and Disease parameters, and Altruistic and Selfish population numbers as the currencies.  First, identify the number of runs you will use for the analysis. Then, start by exploring Cost and Benefit parameters with Disease and Cost set to 0, then add positive values of Disease and Cost.\n",
    "\n",
    "Evaluation Method\n",
    "This total assignment is worth 50 pts: 10 pts for Step 1 and 40 pts for Step 2.\n",
    "\n",
    "Submission Expectations\n",
    "Step 1 should be submitted as a PDF file with the title M4Step1_[last name].pdf, and could even be a highlighted and notated rendition of the model code. A text analysis is also fine.\n",
    "\n",
    "For Step 2, if you use a notebook post an HTML version of the notebook with the title M4Analysis_[last name].html, and if you use another analysis tool please submit a analysis report with graphs as a PDF file with the title M2Analysis_[last name].pdf, Be sure your notebook and report is contains detailed commentary about your analysis steps, decisions and observations."
   ]
  },
  {
   "cell_type": "markdown",
   "metadata": {},
   "source": [
    "The NetLogo model, \"Altruism\" (Wilensky 1998), ships as a Agent Based Model that can be evaluated in the NetLogo computational framework. \n",
    "\n",
    "Agents in the context of agent based models are model elements that might have properties and/or state information. We might loosely define properties as immutable data relating to the agents, and state as mutable date relating to the agents. \n",
    "\n",
    "Agents can be operated on individually or in batches--the latter being inferrable by the former--using computational rules. NetLogo operates with different agent \"classes\" and can be operated with many different evaluation settings, but for our discussion we will assume that the salient features of the agents in the Altruism model are that they are called \"patches\" in the NetLogo implementation framework, and that each individual agent is assigned a \"location\" in a two-dimensional network which it shares with all the other agents. Out of the box, the graph of the network is a 41 x 41 grid, filled completely with 1,681 patch agents, with operations wrapping both horizontally and vertically across the edges of the grid. Patches, once assigned to a location in the network with x and y coordinates, do not move: that is to say, the containers of state do not change in order of the grid. All agents in the NetLogo Altruism model have access to all properties and state values of all other agents.\n",
    "\n",
    "The agents of Altruism operate within a domain with (in the base model) six assignable parameters:\n",
    "\n",
    "- `altruistic-probability`\n",
    "- `selfish-probability`\n",
    "- `cost-of-altruism`\n",
    "- `benefit-from-altruism`\n",
    "- `disease`\n",
    "- `harshness`\n",
    "\n",
    "Each of these parameters is defined as a variable containing a floating point value. We call these domain parameters since they apply to all elements within the model (and are accessible to all elements within the model), and they are set independently of the modelʻs operation. The parameters can be set by the end-user of the model through user interface controls; these controls restrict the parameters to ranges between 0 and .5 < limit 1, inclusive. It might be noted that these restrictions could be overridden arbitrarily in code or even by an ambitious end-user; they might be seen as range *recommendations*. Importantly, it might also be noted that the values can be reset at anytime of the modelʻs operation; this is a much more complex operational envelope that we will ignore for the purposes of this exercise. We will instead limit our investigation to model executions with unchanging domain parameters.\n",
    "\n",
    "In the base model, Altruism endows each agent with the same state variables. In other words, while the agents of Altruism can be heterogenous with respect to state values, they are monotonic in terms of state variable (by virtue of being defined once globally) definitions. Outside of graph position (and some trivial technical settings; see below) the Altruism are monotonic with respect to properties; by virtue of being \"patches\" in NetLogo, they all behave identically under identical conditions (with the exception of operations dependent on their network properties).\n",
    "\n",
    "Before we continue, we must mention the `pcolor` property of NetLogo agents. This is another built-in property that controls the visual color display of the agents, including patches---this would seem to be a trivial technical setting in other contexts. However, since NetLogo lacks enumerated typing, the `pcolor` property is often appropriated by developers to assign meaningful states, frequently ones that class groups of agents in some way or ways. Thus, while most technical settings would never be used to alter data directly, `pcolor` often becomes a fundamental aspect of the modelʻs operation.[^1] is entirely the case with Altruism. So, we will treat `pcolor` as a an agent property that is defined by the implementation but *re-defined* by the developer as an agent state variable. [^2]\n",
    "\n",
    "The following list includes each agent state variable and its initializing function.\n",
    "\n",
    "| name | description | assignment | variable type WRT domain | variable type WRT agents |\n",
    "|-----|-----|-----|-----|\n",
    "| pcolor | assigns an enumerated type to an agent to control some processing flows | random-float function | stochastically dependent on domain parameters | independent |\n",
    "| benefit-out | an implementation detail maintained in lockstep with pcolor; effectively a compound variable | random-float function | stochastically dependent on domain parameters | independent |\n",
    "\n",
    "\n",
    "\n",
    "All initial state assignments are applied one at a time in a sequence executed by the randomizing `ask patches` command. We will discuss the stochastic nature of the command below; however, in the context of initial state assignment, the order in which assignment occurs for individual agents does not appear to make a difference to execution outcomes, and it seems likely that there is generalizable assertion about models along those lines.\n",
    "\n",
    "\n",
    "## Intra-model stochasicity\n",
    "\n",
    "\n",
    "## Sensitivity analysis"
   ]
  },
  {
   "cell_type": "markdown",
   "metadata": {},
   "source": [
    "### Notes\n",
    "\n",
    "[] It might be noted that there is something fundamentally interesting about this phenomenon with respect to the intentional implementation of models by humans. `pcolor` is very frequently used.\n",
    "\n",
    "[] It could be stated that the pcolor variable is specifically sub-classing the agents, but this might not be fundamentally true, since the state variables are all the same."
   ]
  },
  {
   "cell_type": "markdown",
   "metadata": {},
   "source": []
  },
  {
   "cell_type": "markdown",
   "metadata": {},
   "source": []
  }
 ],
 "metadata": {
  "language_info": {
   "name": "python"
  }
 },
 "nbformat": 4,
 "nbformat_minor": 2
}
