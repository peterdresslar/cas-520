{
 "cells": [
  {
   "cell_type": "code",
   "execution_count": 2,
   "metadata": {},
   "outputs": [
    {
     "name": "stdout",
     "output_type": "stream",
     "text": [
      "\u001b[1m\u001b[31merror\u001b[39m\u001b[0m: No virtual environment found; run `\u001b[32muv venv\u001b[39m` to create an environment, or pass `\u001b[32m--system\u001b[39m` to install into a non-virtual environment\n"
     ]
    }
   ],
   "source": [
    "# Getting Started\n",
    "!uv pip install pynetlogo\n",
    "\n",
    "# Set the path to your NetLogo installation\n",
    "# Note! This is OS and machine dependent.\n",
    "# Perhaps someone has an NL docker image out there?\n",
    "# See https://pynetlogo.readthedocs.io/en/latest/_docs/pynetlogo.html#pynetlogo.core.NetLogoLink\n",
    "netlogo_path = '/Applications/NetLogo 6.3.0'  # mac osx\n"
   ]
  },
  {
   "cell_type": "markdown",
   "metadata": {},
   "source": [
    "# Module 2 Assignment: Schelling Segregation Model\n",
    "\n",
    "*CAS 520, Peter Dresslar*\n",
    "\n",
    "For this assignment we will use [pyNetLogo](https://pynetlogo.readthedocs.io/) to capture and report simulation outputs. An excellent and relevant example appears [here](https://pynetlogo.readthedocs.io/en/latest/_docs/introduction.html)\n",
    "\n",
    "## Step 1: First Analysis\n",
    "\n",
    "### Experiment 1: Set density to 80% and similarity wanted to 30% and run the simulation several times.\n",
    "\n",
    "### Experiment 2: Keeping density at 80%, change the similarity threshold to 90%.\n",
    "\n",
    "### Experiment 3: While the model is still running from step 2, slowly move the similarity slider to the left and note when the model behaviour changes and segregation emerges.\n",
    "\n",
    "### Experiment 4: Rerun the simulation a few times with 80% density and similarity threshold at the tipping point you discovered."
   ]
  },
  {
   "cell_type": "code",
   "execution_count": 1,
   "metadata": {},
   "outputs": [
    {
     "ename": "ModuleNotFoundError",
     "evalue": "No module named 'pynetlogo'",
     "output_type": "error",
     "traceback": [
      "\u001b[0;31m---------------------------------------------------------------------------\u001b[0m",
      "\u001b[0;31mModuleNotFoundError\u001b[0m                       Traceback (most recent call last)",
      "Cell \u001b[0;32mIn[1], line 4\u001b[0m\n\u001b[1;32m      2\u001b[0m \u001b[38;5;28;01mimport\u001b[39;00m\u001b[38;5;250m \u001b[39m\u001b[38;5;21;01mmatplotlib\u001b[39;00m\u001b[38;5;21;01m.\u001b[39;00m\u001b[38;5;21;01mpyplot\u001b[39;00m\u001b[38;5;250m \u001b[39m\u001b[38;5;28;01mas\u001b[39;00m\u001b[38;5;250m \u001b[39m\u001b[38;5;21;01mplt\u001b[39;00m\n\u001b[1;32m      3\u001b[0m \u001b[38;5;28;01mimport\u001b[39;00m\u001b[38;5;250m \u001b[39m\u001b[38;5;21;01mseaborn\u001b[39;00m\u001b[38;5;250m \u001b[39m\u001b[38;5;28;01mas\u001b[39;00m\u001b[38;5;250m \u001b[39m\u001b[38;5;21;01msns\u001b[39;00m\n\u001b[0;32m----> 4\u001b[0m \u001b[38;5;28;01mimport\u001b[39;00m\u001b[38;5;250m \u001b[39m\u001b[38;5;21;01mpynetlogo\u001b[39;00m\n\u001b[1;32m      6\u001b[0m netlogo \u001b[38;5;241m=\u001b[39m pynetlogo\u001b[38;5;241m.\u001b[39mNetLogoLink(\n\u001b[1;32m      7\u001b[0m     gui\u001b[38;5;241m=\u001b[39m\u001b[38;5;28;01mTrue\u001b[39;00m,\n\u001b[1;32m      8\u001b[0m     netlogo_home\u001b[38;5;241m=\u001b[39mnetlogo_path\n\u001b[1;32m      9\u001b[0m )\n\u001b[1;32m     10\u001b[0m model \u001b[38;5;241m=\u001b[39m \u001b[38;5;124m\"\u001b[39m\u001b[38;5;124m./Segregation.nlogo\u001b[39m\u001b[38;5;124m\"\u001b[39m \u001b[38;5;66;03m# (copied into this directory!)\u001b[39;00m\n",
      "\u001b[0;31mModuleNotFoundError\u001b[0m: No module named 'pynetlogo'"
     ]
    }
   ],
   "source": [
    "import pandas as pd\n",
    "import matplotlib.pyplot as plt\n",
    "import seaborn as sns\n",
    "import pynetlogo\n",
    "\n",
    "netlogo = pynetlogo.NetLogoLink(\n",
    "    gui=True,\n",
    "    netlogo_home=netlogo_path\n",
    ")\n",
    "model = \"./Segregation.nlogo\" # (copied into this directory!)\n",
    "\n",
    "def find_breakpoint():\n",
    "    \"\"\"\n",
    "    This is tricky! We start with the given density and similarity wanted.\n",
    "    We know from manual testing that there is a breakpoint at which point the model \n",
    "    will reduce to 0% unhappy. We also can observe that this \"collapse\" occurs within\n",
    "    1000 ticks, and that the go procedure will halt the model at that point.\n",
    "    \n",
    "    We can run a simple binary \"search\" to find this point,\n",
    "    by running the model with similarity-wanted values between 1.0 and 90.0.\n",
    "\n",
    "    If the model stops within 1000 ticks, we know that the breakpoint is higher than the \n",
    "    searched similarity-wanted value. If the model runs the full 1000 steps, we know that\n",
    "    the breakpoint is lower than the searched similarity-wanted value.\n",
    "\n",
    "    Since we are setting values programatically, we have the luxury of looking beyond the integer values of similarity-wanted.\n",
    "\n",
    "\n",
    "    \"\"\"\n",
    "    density = 80.0\n",
    "    similarity_wanted = 90.0\n",
    "    upper_bound = similarity_wanted\n",
    "    lower_bound = 1.0 # not sure how the model would deal with zeroes!\n",
    "    breakpoint = None\n",
    "    \n",
    "    iteration = 0\n",
    "    while breakpoint is None:\n",
    "        iteration += 1\n",
    "        print(f\"Iteration {iteration}\")\n",
    "        midpoint = round((upper_bound + lower_bound) / 2.0, 1) # round to 1 decimal place\n",
    "        netlogo.load_model(model)\n",
    "        netlogo.command(f\"set density {density}\")\n",
    "        netlogo.command(f\"set %-similar-wanted {midpoint}\")\n",
    "        netlogo.command(\"setup\")\n",
    "        \n",
    "        netlogo.command(\"repeat 1000 [go]\")\n",
    "        # we should be able to see if the model halted early by checking the step number \n",
    "\n",
    "        print(netlogo.report(\"ticks\"))\n",
    "\n",
    "        if netlogo.report(\"ticks\") < 1000:\n",
    "            lower_bound = midpoint + 0.1\n",
    "        else:\n",
    "            upper_bound = midpoint - 0.1\n",
    "\n",
    "        if upper_bound - lower_bound < 0.1:\n",
    "            breakpoint = midpoint\n",
    "    \n",
    "    return breakpoint\n",
    "        \n",
    "    \n",
    "\n",
    "\n",
    "def experiment(number_of_runs, density, similar_wanted):\n",
    "    data = []\n",
    "\n",
    "    for run in range(number_of_runs):\n",
    "        netlogo.load_model(model)\n",
    "        netlogo.command(\"set density \" + density)\n",
    "        netlogo.command(\"set similarity-wanted \" + similar_wanted)\n",
    "        netlogo.command(\"setup\")\n",
    "\n",
    "        netlogo.command(\"repeat 100 [go]\")\n",
    "\n",
    "\n",
    "print(find_breakpoint())\n",
    "\n",
    "\n",
    "\n"
   ]
  },
  {
   "cell_type": "markdown",
   "metadata": {},
   "source": []
  }
 ],
 "metadata": {
  "kernelspec": {
   "display_name": "Python 3",
   "language": "python",
   "name": "python3"
  },
  "language_info": {
   "codemirror_mode": {
    "name": "ipython",
    "version": 3
   },
   "file_extension": ".py",
   "mimetype": "text/x-python",
   "name": "python",
   "nbconvert_exporter": "python",
   "pygments_lexer": "ipython3",
   "version": "3.12.8"
  }
 },
 "nbformat": 4,
 "nbformat_minor": 2
}
