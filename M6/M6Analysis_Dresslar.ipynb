{
 "cells": [
  {
   "cell_type": "markdown",
   "metadata": {},
   "source": [
    "Procedure\n",
    "## Step 1: Coding a Network Option\n",
    "The geometric network in the model is based on close distances. While many people do indeed interact most with those closest to them physically, modern life does include a lot of movement between communities. Starting with the spatially-clustered network in the model, add a new network procedure that randomly rewires a specified number of links, and add a slider to set the % of links to rewire as well as a toggle were the user can select which network to use.\n",
    "\n",
    "* Planes complete *\n",
    "\n",
    "## Step 2: Network Measures\n",
    "Add at least two reporters showing informative network measures. You are welcome to write them from scratch or use the NetLogo Nw extension primitives. The documentation for the extension can be found here: https://ccl.northwestern.edu/netlogo/docs/nw.htmlLinks to an external site.\n",
    "\n",
    "To use an extension you must include this at the beginning of your code:  \n",
    "\n",
    "extensions [ nw ]\n",
    "\n",
    "; this command will return the mean patch length for the whole model\n",
    "nw:mean-path-length\n",
    "For an example of how to use the nw extension to calculate network measures, there is an example Netlogo model located in the Models Library that comes with Netlogo. It is located in Code Examples, Extension Examples, NW, NW General Examples.\n",
    "\n",
    "How are the networks at various numbers of new links similar and dissimilar? \n",
    "\n",
    "## Step 3: Sensitivity Analysis\n",
    "Perform a sensitivity analysis on your new version. The first task in a sensitivity analysis is determining the appropriate number of runs. The model has been run 10,000 times and the graphs below have been created from your results (These graphs are included to make the assignment simpler, but since they are not from your model the actual number of runs needed could be different). Use these graphs to determine the appropriate number of runs:\n",
    "\n",
    "sus_cofv.png\n",
    "\n",
    "resistant_cofv.png\n",
    "\n",
    "Select appropriate number of runs, parameters (especially your re-wiring parameter) and analysis currencies, paying special attention to the sensitivity of the model to network type and whether or not superspreaders exist."
   ]
  }
 ],
 "metadata": {
  "language_info": {
   "name": "python"
  }
 },
 "nbformat": 4,
 "nbformat_minor": 2
}
