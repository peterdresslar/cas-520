{
 "cells": [
  {
   "cell_type": "markdown",
   "metadata": {},
   "source": [
    "Procedure\n",
    "## Step 1: Coding a Network Option\n",
    "The geometric network in the model is based on close distances. While many people do indeed interact most with those closest to them physically, modern life does include a lot of movement between communities. Starting with the spatially-clustered network in the model, add a new network procedure that randomly rewires a specified number of links, and add a slider to set the % of links to rewire as well as a toggle were the user can select which network to use.\n",
    "\n",
    "\n",
    "## Step 2: Network Measures\n",
    "Add at least two reporters showing informative network measures. You are welcome to write them from scratch or use the NetLogo Nw extension primitives. The documentation for the extension can be found here: https://ccl.northwestern.edu/netlogo/docs/nw.htmlLinks to an external site.\n",
    "\n",
    "To use an extension you must include this at the beginning of your code:  \n",
    "\n",
    "extensions [ nw ]\n",
    "\n",
    "; this command will return the mean patch length for the whole model\n",
    "nw:mean-path-length\n",
    "For an example of how to use the nw extension to calculate network measures, there is an example Netlogo model located in the Models Library that comes with Netlogo. It is located in Code Examples, Extension Examples, NW, NW General Examples.\n",
    "\n",
    "How are the networks at various numbers of new links similar and dissimilar? \n",
    "\n",
    "## Step 3: Sensitivity Analysis\n",
    "Perform a sensitivity analysis on your new version. The first task in a sensitivity analysis is determining the appropriate number of runs. The model has been run 10,000 times and the graphs below have been created from your results (These graphs are included to make the assignment simpler, but since they are not from your model the actual number of runs needed could be different). Use these graphs to determine the appropriate number of runs:\n",
    "\n",
    "sus_cofv.png\n",
    "\n",
    "resistant_cofv.png\n",
    "\n",
    "Select appropriate number of runs, parameters (especially your re-wiring parameter) and analysis currencies, paying special attention to the sensitivity of the model to network type and whether or not superspreaders exist."
   ]
  },
  {
   "cell_type": "markdown",
   "metadata": {},
   "source": [
    "## Step 1\n",
    "\n",
    "The modification adds a small feature allowing the user to control additional (approximately) random link-generation with a toggle and sliders. The new controls are located under the grid display. New code is located in a block demarcated with my name. Further information about the modification appears below.\n",
    "\n",
    "## Step 2\n",
    "\n",
    "I was unable to get the `nw` extension to work at all with my setup. Instead, I added a very basic display for `links-per-node`. A also borrowed this code:\n",
    "\n",
    "```netlogo\n",
    "if not plot? [ stop ]\n",
    "let max-degree max [count link-neighbors] of turtles\n",
    "plot-pen-reset  ;; erase what we plotted before\n",
    "set-plot-x-range 1 (max-degree + 1)  ;; + 1 to make room for the width of the last bar\n",
    "histogram [count link-neighbors] of turtles\n",
    "```\n",
    "\n",
    "...from the library model, Preferential Attachment, to generate a histogram plot of the network Degree Distribution. These plots are particularly sensitive to activity from the customization mentioned in Step 1, since additional links can be added over time.\n",
    "\n",
    "## Step 3\n",
    "\n",
    "From the supplied images it appears that we could run the model 500 times to feel confident in our analysis outcomes.\n"
   ]
  },
  {
   "cell_type": "markdown",
   "metadata": {},
   "source": []
  },
  {
   "cell_type": "markdown",
   "metadata": {},
   "source": [
    "### Description of modification\n",
    "\n",
    "The new planes modification simulates the expansion of contact networks and the resultant spread of virus through airplane travel. It is a toy modification and its sophistication is utterly minimal.\n",
    "\n",
    "A second breed of turtles has been added, reclassing the existing turtles as `nodes` and the new breed as `planes`. If the `planes-on?` toggle is set to On, planes will randomly emanate from one of the four \"walls\" of the arena and head on a random vector to some other wall. Along the way, any nodes within `plane-radius` of the plane are connected to *every other node* the plane has already come into contact with, following the linking rules of the base model (for instance, \"dead\" nodes are not linked). Higher values of `plane-radius` can thus generate very large numbers of network connections.\n",
    "\n",
    "The model otherwise functions as normal, and disease can be seen to travel across these new, airplane-generated links, just as would be expected with the real world phenomenon."
   ]
  }
 ],
 "metadata": {
  "language_info": {
   "name": "python"
  }
 },
 "nbformat": 4,
 "nbformat_minor": 2
}
